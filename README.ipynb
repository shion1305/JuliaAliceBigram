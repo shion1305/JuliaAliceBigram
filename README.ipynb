{
 "cells": [
  {
   "cell_type": "markdown",
   "id": "84aed7cd0c275066",
   "metadata": {
    "collapsed": false,
    "jupyter": {
     "outputs_hidden": false
    }
   },
   "source": [
    "# 「不思議の国のアリス」のデータセットを用いた、文章の文法的正しさの分析\n",
    "\n",
    "## 課題内容\n",
    "「不思議の国のアリス」をコーパスとしてバイグラムを作成する。このバイグラムを用いて、以下の「文法的」な文と「非文法的」な文を判断することができるかについて調査する\n",
    "\n",
    "|  | 文法的 | 非文法的 |\n",
    "| --- | --- | --- |\n",
    "| 1 | START is the rabbit on the table white END | START does the rabbit on the table white END |\n",
    "| 2 | START is the girl reading END | START does the girl reading END |\n",
    "| 3 | START is the caterpillar tired NED | START does the caterpillar tired END |\n",
    "| 4 | START is the house old END | START does the house old END |"
   ]
  },
  {
   "cell_type": "markdown",
   "id": "8c7c551bdc2e023a",
   "metadata": {
    "collapsed": false,
    "jupyter": {
     "outputs_hidden": false
    }
   },
   "source": [
    "## データセットについて\n",
    "\n",
    "データセットは [./data/20231102_alice.txt](./data/20231102_alice.txt)に格納されている。"
   ]
  },
  {
   "cell_type": "markdown",
   "id": "14d23e33a3bd211b",
   "metadata": {
    "collapsed": false,
    "jupyter": {
     "outputs_hidden": false
    }
   },
   "source": [
    "## 前処理\n",
    "\n",
    "データセットを確認した上で、前処理を以下の流れで実施した。\n",
    "\n",
    "1. 全ての文字を小文字に変換\n",
    "2. `won’t` `I’ve` `I’ll` `hadn’t` などの短縮形を非短縮形に変換\n",
    "3. (省略形でない) `’` の消去\n",
    "4. 句読点や `!` `?` などを区切りにそれぞれ文として分割\n",
    "5. `START` `END` というダミー単語をそれぞれ文の先頭と末尾に挿入\n",
    "\n",
    "Juliaにて処理の記述を行った。ソースコードは以下である。"
   ]
  },
  {
   "cell_type": "code",
   "execution_count": 1,
   "id": "initial_id",
   "metadata": {
    "ExecuteTime": {
     "end_time": "2024-02-10T00:15:45.243876700Z",
     "start_time": "2024-02-10T00:15:43.424414Z"
    },
    "collapsed": true,
    "jupyter": {
     "outputs_hidden": true
    }
   },
   "outputs": [
    {
     "data": {
      "text/plain": [
       "163818"
      ]
     },
     "execution_count": 1,
     "metadata": {},
     "output_type": "execute_result"
    }
   ],
   "source": [
    "using Statistics\n",
    "using TextAnalysis\n",
    "\n",
    "# ファイルを読み込む\n",
    "file_path = \"./data/20231102_alice.txt\"\n",
    "text = read(file_path, String)\n",
    "\n",
    "# テキストを小文字に変換\n",
    "text = lowercase(text)\n",
    "doc = StringDocument(text)\n",
    "\n",
    "# 短縮形を非短縮形に\n",
    "include(\"./lib/expand_contractions.jl\")\n",
    "text = expand_contractions(text)\n",
    "\n",
    "# ’を消去\n",
    "text = replace(text, r\"’\" => \"\")\n",
    "\n",
    "# 句読点や!?で文を分割\n",
    "sentences = split(text, r\"[—;:.?!“”(),\\n]+\")\n",
    "\n",
    "# 各文を単語に分割し、STARTとENDを追加する\n",
    "processed_sentences :: Vector{Vector{String}} = []\n",
    "for sentence in sentences\n",
    "    words :: Vector{String} = split(sentence)\n",
    "    if isempty(words) || length(words) < 3\n",
    "        continue\n",
    "    end\n",
    "    pushfirst!(words, \"START\")\n",
    "    push!(words, \"END\")\n",
    "    push!(processed_sentences, words :: Vector{String})\n",
    "end\n",
    "\n",
    "p_sentences = []\n",
    "\n",
    "for sentence in processed_sentences\n",
    "    push!(p_sentences, join(sentence, \" \"))\n",
    "end\n",
    "\n",
    "# 確認しやすくするため改行を挿入\n",
    "processed_text = join(p_sentences, \"\\n\")\n",
    "\n",
    "# 保存\n",
    "output = \"./data/alice_processed.txt\"\n",
    "open(output, \"w\") do f\n",
    "    write(f, processed_text)\n",
    "end"
   ]
  },
  {
   "cell_type": "markdown",
   "id": "7045e9cd037f625a",
   "metadata": {
    "collapsed": false,
    "jupyter": {
     "outputs_hidden": false
    }
   },
   "source": [
    "## バイグラムの生成\n",
    "`TextEntropyCalculator` にバイグラム生成機能を実装した。"
   ]
  },
  {
   "cell_type": "code",
   "execution_count": null,
   "id": "3acf4e7b777d93dd",
   "metadata": {
    "collapsed": false,
    "jupyter": {
     "outputs_hidden": false
    }
   },
   "outputs": [],
   "source": [
    "include(\"./lib/probability.jl\")\n",
    "\n",
    "calculator = TextEntropyCalculator(processed_sentences)"
   ]
  },
  {
   "cell_type": "markdown",
   "id": "30a8bdf9959aad4",
   "metadata": {
    "collapsed": false,
    "jupyter": {
     "outputs_hidden": false
    }
   },
   "source": [
    "## 交差エントロピーの計算\n",
    "交差エントロピーの計算は `calculate_entropy` にて実装した。"
   ]
  },
  {
   "cell_type": "code",
   "execution_count": 12,
   "id": "cae9184c002e796e",
   "metadata": {
    "ExecuteTime": {
     "end_time": "2024-02-09T23:43:33.050894Z",
     "start_time": "2024-02-09T23:43:32.781690800Z"
    },
    "collapsed": false,
    "jupyter": {
     "outputs_hidden": false
    }
   },
   "outputs": [
    {
     "name": "stdout",
     "output_type": "stream",
     "text": [
      "Cross Entropy: 3.7372782731207037 3.898865476503925\n",
      "Cross Entropy: 4.064827431113122 4.571385722349202\n",
      "Cross Entropy: 4.882204968109567 4.990206264860539\n",
      "Cross Entropy: 3.578691063091667 3.7457068054967317\n"
     ]
    },
    {
     "data": {
      "text/plain": [
       "\"C:\\\\Users\\\\shion\\\\gitClones\\\\JuliaAliceBigram\\\\graph-4-2.png\""
      ]
     },
     "execution_count": 12,
     "metadata": {},
     "output_type": "execute_result"
    }
   ],
   "source": [
    "include(\"./lib/probability.jl\")\n",
    "include(\"./lib/biagram_export.jl\")\n",
    "\n",
    "# 指定された文\n",
    "case1 = [\"START is the rabbit on the table white END\", \"START does the rabbit on the table red END\"]\n",
    "case2 = [\"START is the girl reading END\", \"START does the girl reading END\"]\n",
    "case3 = [\"START is the caterpillar tired END\", \"START does the caterpillar tired END\"]\n",
    "case4 = [\"START is the house old END\", \"START does the house old END\"]\n",
    "e1_entropy, e1_words = calculate_entropy(calculator, case1[1])\n",
    "generate_bigram_graph([e1_words, e1_entropy], \"sample_graph\")\n",
    "\n",
    "function compare_2sentences(sentence1, sentence2, num)\n",
    "    e1_entropy, e1_words = calculate_entropy(calculator, sentence1)\n",
    "    e2_entropy, e2_words = calculate_entropy(calculator, sentence2)\n",
    "    println(\"Cross Entropy: \", e1_entropy, \" \", e2_entropy)\n",
    "    generate_bigram_graph([e1_words, e1_entropy], \"graph-$num-1\")\n",
    "    generate_bigram_graph([e2_words, e2_entropy], \"graph-$num-2\")\n",
    "end\n",
    "compare_2sentences(case1[1], case1[2], 1)\n",
    "compare_2sentences(case2[1], case2[2], 2)\n",
    "compare_2sentences(case3[1], case3[2], 3)\n",
    "compare_2sentences(case4[1], case4[2], 4)"
   ]
  },
  {
   "cell_type": "markdown",
   "id": "56543969bdcd1465",
   "metadata": {
    "collapsed": false,
    "jupyter": {
     "outputs_hidden": false
    }
   },
   "source": [
    "## 結果\n",
    "\n",
    "エントロピーは以下のようになった。文法的なものは非文法的なものに比較してエントロピーが下がることが期待されるが、**全てのケースにおいて期待通りの結果が得られた。**\n",
    "\n",
    "|  | 文法的 | 非文法的 | エントロピーによる判別 |\n",
    "| --- | --- | --- | --- |\n",
    "| 文1 | 3.7372782731207037 | 3.898865476503925 | 成功 (文法的＜非文法的) |\n",
    "| 文2 | 4.064827431113122 | 4.571385722349202 | 成功(文法的＜非文法的) |\n",
    "| 文3 | 4.882204968109567 | 4.990206264860539 | 成功 (文法的＜非文法的) |\n",
    "| 文4 | 3.578691063091667 | 3.7457068054967317 | 成功 (文法的＜非文法的) |"
   ]
  },
  {
   "cell_type": "markdown",
   "id": "d3cd52c36d1f0c2d",
   "metadata": {
    "collapsed": false,
    "jupyter": {
     "outputs_hidden": false
    }
   },
   "source": [
    "## エントロピーの寄与度の分析\n",
    "\n",
    "それぞれの交差エントロピーについて、どの部分が違いに寄与しているのかを調べるため、それぞれでのエントロピーの量をグラフ化してまとめたところ、以下のようになった。\n",
    "\n",
    "### 文1\n",
    "#### 文法的\n",
    "![文法的](./data/graph-1-1.png)\n",
    "#### 非文法的\n",
    "![非文法的](./data/graph-1-2.png)\n",
    "\n",
    "### 文2\n",
    "#### 文法的\n",
    "![文法的](./data/graph-2-1.png)\n",
    "#### 非文法的\n",
    "![非文法的](./data/graph-2-2.png)\n",
    "\n",
    "### 文3\n",
    "#### 文法的\n",
    "![文法的](./data/graph-3-1.png)\n",
    "#### 非文法的\n",
    "![非文法的](./data/graph-3-2.png)\n",
    "\n",
    "### 文4\n",
    "#### 文法的\n",
    "![文法的](./data/graph-4-1.png)\n",
    "#### 非文法的\n",
    "![非文法的](./data/graph-4-2.png)\n"
   ]
  }
 ],
 "metadata": {
  "kernelspec": {
   "display_name": "Julia 1.9.3",
   "language": "julia",
   "name": "julia-1.9"
  },
  "language_info": {
   "file_extension": ".jl",
   "mimetype": "application/julia",
   "name": "julia",
   "version": "1.9.3"
  }
 },
 "nbformat": 4,
 "nbformat_minor": 5
}
