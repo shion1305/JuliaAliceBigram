{
 "cells": [
  {
   "cell_type": "code",
   "execution_count": 2,
   "id": "4ae158f8-7bb0-4a51-98a5-0058f9ca8f8e",
   "metadata": {
    "ExecuteTime": {
     "end_time": "2023-11-08T22:21:54.452996400Z",
     "start_time": "2023-11-08T22:21:54.437996900Z"
    }
   },
   "outputs": [
    {
     "name": "stdout",
     "output_type": "stream",
     "text": [
      "Hello World\n"
     ]
    }
   ],
   "source": [
    "println(\"Hello World\")"
   ]
  },
  {
   "cell_type": "code",
   "execution_count": 3,
   "id": "1ca750c8-5b37-43c8-bdd2-900d673f6891",
   "metadata": {
    "ExecuteTime": {
     "end_time": "2023-11-08T22:24:04.485736400Z",
     "start_time": "2023-11-08T22:23:43.235571700Z"
    }
   },
   "outputs": [
    {
     "name": "stderr",
     "output_type": "stream",
     "text": [
      "\u001B[32m\u001B[1m    Updating\u001B[22m\u001B[39m registry at `C:\\Users\\shion\\.julia\\registries\\General.toml`\n",
      "\u001B[32m\u001B[1m   Resolving\u001B[22m\u001B[39m package versions...\n",
      "\u001B[32m\u001B[1m   Installed\u001B[22m\u001B[39m ConcurrentUtilities ─ v2.3.0\n",
      "\u001B[32m\u001B[1m   Installed\u001B[22m\u001B[39m OpenSSL_jll ───────── v3.0.12+0\n",
      "\u001B[32m\u001B[1m   Installed\u001B[22m\u001B[39m SimpleBufferStream ── v1.1.0\n",
      "\u001B[32m\u001B[1m   Installed\u001B[22m\u001B[39m BitFlags ──────────── v0.1.7\n",
      "\u001B[32m\u001B[1m   Installed\u001B[22m\u001B[39m OpenSSL ───────────── v1.4.1\n",
      "\u001B[32m\u001B[1m   Installed\u001B[22m\u001B[39m LoggingExtras ─────── v1.0.3\n",
      "\u001B[32m\u001B[1m   Installed\u001B[22m\u001B[39m URIs ──────────────── v1.5.1\n",
      "\u001B[32m\u001B[1m   Installed\u001B[22m\u001B[39m TranscodingStreams ── v0.10.2\n",
      "\u001B[32m\u001B[1m   Installed\u001B[22m\u001B[39m CodecZlib ─────────── v0.7.3\n",
      "\u001B[32m\u001B[1m   Installed\u001B[22m\u001B[39m HTTP ──────────────── v1.10.0\n",
      "\u001B[32m\u001B[1m   Installed\u001B[22m\u001B[39m ExceptionUnwrapping ─ v0.1.9\n",
      "\u001B[32m\u001B[1m    Updating\u001B[22m\u001B[39m `C:\\Users\\shion\\.julia\\environments\\v1.9\\Project.toml`\n",
      "  \u001B[90m[cd3eb016] \u001B[39m\u001B[92m+ HTTP v1.10.0\u001B[39m\n",
      "\u001B[32m\u001B[1m    Updating\u001B[22m\u001B[39m `C:\\Users\\shion\\.julia\\environments\\v1.9\\Manifest.toml`\n",
      "  \u001B[90m[d1d4a3ce] \u001B[39m\u001B[92m+ BitFlags v0.1.7\u001B[39m\n",
      "  \u001B[90m[944b1d66] \u001B[39m\u001B[92m+ CodecZlib v0.7.3\u001B[39m\n",
      "  \u001B[90m[f0e56b4a] \u001B[39m\u001B[92m+ ConcurrentUtilities v2.3.0\u001B[39m\n",
      "  \u001B[90m[460bff9d] \u001B[39m\u001B[92m+ ExceptionUnwrapping v0.1.9\u001B[39m\n",
      "  \u001B[90m[cd3eb016] \u001B[39m\u001B[92m+ HTTP v1.10.0\u001B[39m\n",
      "  \u001B[90m[e6f89c97] \u001B[39m\u001B[92m+ LoggingExtras v1.0.3\u001B[39m\n",
      "  \u001B[90m[4d8831e6] \u001B[39m\u001B[92m+ OpenSSL v1.4.1\u001B[39m\n",
      "  \u001B[90m[777ac1f9] \u001B[39m\u001B[92m+ SimpleBufferStream v1.1.0\u001B[39m\n",
      "  \u001B[90m[3bb67fe8] \u001B[39m\u001B[92m+ TranscodingStreams v0.10.2\u001B[39m\n",
      "  \u001B[90m[5c2747f8] \u001B[39m\u001B[92m+ URIs v1.5.1\u001B[39m\n",
      "  \u001B[90m[458c3c95] \u001B[39m\u001B[92m+ OpenSSL_jll v3.0.12+0\u001B[39m\n",
      "\u001B[32m\u001B[1mPrecompiling\u001B[22m\u001B[39m project...\n",
      "\u001B[32m  ✓ \u001B[39m\u001B[90mSimpleBufferStream\u001B[39m\n",
      "\u001B[32m  ✓ \u001B[39m\u001B[90mBitFlags\u001B[39m\n",
      "\u001B[32m  ✓ \u001B[39m\u001B[90mExceptionUnwrapping\u001B[39m\n",
      "\u001B[32m  ✓ \u001B[39m\u001B[90mURIs\u001B[39m\n",
      "\u001B[32m  ✓ \u001B[39m\u001B[90mLoggingExtras\u001B[39m\n",
      "\u001B[32m  ✓ \u001B[39m\u001B[90mConcurrentUtilities\u001B[39m\n",
      "\u001B[32m  ✓ \u001B[39m\u001B[90mTranscodingStreams\u001B[39m\n",
      "\u001B[32m  ✓ \u001B[39m\u001B[90mOpenSSL_jll\u001B[39m\n",
      "\u001B[32m  ✓ \u001B[39m\u001B[90mTranscodingStreams → TestExt\u001B[39m\n",
      "\u001B[32m  ✓ \u001B[39m\u001B[90mCodecZlib\u001B[39m\n",
      "\u001B[32m  ✓ \u001B[39m\u001B[90mOpenSSL\u001B[39m\n",
      "\u001B[32m  ✓ \u001B[39mHTTP\n",
      "  12 dependencies successfully precompiled in 10 seconds. 16 already precompiled.\n",
      "\u001B[32m\u001B[1m   Resolving\u001B[22m\u001B[39m package versions...\n",
      "\u001B[32m\u001B[1m   Installed\u001B[22m\u001B[39m DelimitedFiles ─ v1.9.1\n",
      "\u001B[32m\u001B[1m    Updating\u001B[22m\u001B[39m `C:\\Users\\shion\\.julia\\environments\\v1.9\\Project.toml`\n",
      "  \u001B[90m[8bb1440f] \u001B[39m\u001B[92m+ DelimitedFiles v1.9.1\u001B[39m\n",
      "\u001B[32m\u001B[1m    Updating\u001B[22m\u001B[39m `C:\\Users\\shion\\.julia\\environments\\v1.9\\Manifest.toml`\n",
      "  \u001B[90m[8bb1440f] \u001B[39m\u001B[92m+ DelimitedFiles v1.9.1\u001B[39m\n",
      "\u001B[32m\u001B[1mPrecompiling\u001B[22m\u001B[39m project...\n",
      "\u001B[32m  ✓ \u001B[39mDelimitedFiles\n",
      "  1 dependency successfully precompiled in 1 seconds. 28 already precompiled.\n"
     ]
    }
   ],
   "source": [
    "import Pkg;\n",
    "Pkg.add(\"HTTP\")\n",
    "Pkg.add(\"DelimitedFiles\")"
   ]
  },
  {
   "cell_type": "code",
   "execution_count": 4,
   "outputs": [
    {
     "ename": "LoadError",
     "evalue": "MethodError: no method matching isless(::Nothing, ::Nothing)\n\n\u001B[0mClosest candidates are:\n\u001B[0m  isless(::Any, \u001B[91m::Missing\u001B[39m)\n\u001B[0m\u001B[90m   @\u001B[39m \u001B[90mBase\u001B[39m \u001B[90m\u001B[4mmissing.jl:88\u001B[24m\u001B[39m\n\u001B[0m  isless(\u001B[91m::Missing\u001B[39m, ::Any)\n\u001B[0m\u001B[90m   @\u001B[39m \u001B[90mBase\u001B[39m \u001B[90m\u001B[4mmissing.jl:87\u001B[24m\u001B[39m\n",
     "output_type": "error",
     "traceback": [
      "MethodError: no method matching isless(::Nothing, ::Nothing)\n\n\u001B[0mClosest candidates are:\n\u001B[0m  isless(::Any, \u001B[91m::Missing\u001B[39m)\n\u001B[0m\u001B[90m   @\u001B[39m \u001B[90mBase\u001B[39m \u001B[90m\u001B[4mmissing.jl:88\u001B[24m\u001B[39m\n\u001B[0m  isless(\u001B[91m::Missing\u001B[39m, ::Any)\n\u001B[0m\u001B[90m   @\u001B[39m \u001B[90mBase\u001B[39m \u001B[90m\u001B[4mmissing.jl:87\u001B[24m\u001B[39m\n",
      "",
      "Stacktrace:",
      " [1] <(x::Nothing, y::Nothing)",
      "   @ Base .\\operators.jl:343",
      " [2] <=(x::Nothing, y::Nothing)",
      "   @ Base .\\operators.jl:392",
      " [3] >=(x::Nothing, y::Nothing)",
      "   @ Base .\\operators.jl:416",
      " [4] (::Colon)(start::Nothing, stop::Nothing)",
      "   @ Base .\\range.jl:7",
      " [5] top-level scope",
      "   @ In[4]:16"
     ]
    }
   ],
   "source": [
    "# 必要なパッケージをインポートする\n",
    "using HTTP\n",
    "using DelimitedFiles\n",
    "\n",
    "# オンラインからテキストをダウンロードする\n",
    "url = \"https://www.gutenberg.org/files/11/11-0.txt\" # Project Gutenbergからダウンロードする場合のURL\n",
    "response = HTTP.get(url)\n",
    "alice_text = response.body |> String\n",
    "\n",
    "# テキストを行に分割する\n",
    "lines = split(alice_text, '\\n')\n",
    "\n",
    "# 空の行やヘッダー、フッターを削除する（必要に応じて）\n",
    "start_line = findfirst(isequal(\"CHAPTER I.\"), lines) # 最初のチャプターの行を見つける\n",
    "end_line = findlast(isequal(\"THE END\"), lines) # \"THE END\"の行を見つける\n",
    "lines = lines[start_line:end_line]\n",
    "\n",
    "# テキストを単語に分割する\n",
    "words = []\n",
    "for line in lines\n",
    "    # 各行を単語に分割\n",
    "    line_words = split(line, r\"\\W+\", keepempty=false)\n",
    "    # 分割した単語をwords配列に追加\n",
    "    append!(words, line_words)\n",
    "end\n",
    "\n",
    "# バイグラムのリストを作成\n",
    "bigrams = []\n",
    "for i in 1:length(words)-1\n",
    "    push!(bigrams, (words[i], words[i+1]))\n",
    "end\n",
    "\n",
    "# バイグラムのいくつかを表示して確認\n",
    "println(bigrams[1:10])"
   ],
   "metadata": {
    "collapsed": false,
    "ExecuteTime": {
     "end_time": "2023-11-08T22:24:12.483311300Z",
     "start_time": "2023-11-08T22:24:04.487625800Z"
    }
   },
   "id": "46c320bceefaaf00"
  }
 ],
 "metadata": {
  "kernelspec": {
   "display_name": "Julia 1.9.3",
   "language": "julia",
   "name": "julia-1.9"
  },
  "language_info": {
   "file_extension": ".jl",
   "mimetype": "application/julia",
   "name": "julia",
   "version": "1.9.3"
  }
 },
 "nbformat": 4,
 "nbformat_minor": 5
}
