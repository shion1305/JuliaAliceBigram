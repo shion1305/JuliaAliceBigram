{
 "cells": [
  {
   "cell_type": "code",
   "execution_count": 1,
   "id": "initial_id",
   "metadata": {
    "ExecuteTime": {
     "end_time": "2023-11-08T23:47:12.642504100Z",
     "start_time": "2023-11-08T23:47:12.635984600Z"
    },
    "collapsed": true
   },
   "outputs": [
    {
     "data": {
      "text/plain": [
       "A StringDocument{String}\n",
       " * Language: Languages.English()\n",
       " * Title: Untitled Document\n",
       " * Author: Unknown Author\n",
       " * Timestamp: Unknown Time\n",
       " * Snippet: alice was beginning to get very tired of sitting b"
      ]
     },
     "metadata": {},
     "output_type": "display_data"
    }
   ],
   "source": [
    "using Statistics\n",
    "using TextAnalysis\n",
    "\n",
    "# ファイルを読み込む\n",
    "file_path = \"./data/20231102_alice.txt\"\n",
    "text = read(file_path, String)\n",
    "\n",
    "# テキストを小文字に変換\n",
    "text = lowercase(text)\n",
    "doc = StringDocument(text)\n",
    "# prepare!(doc, strip_punctuation)\n",
    "# テキストを文に分割する"
   ]
  },
  {
   "cell_type": "code",
   "execution_count": 2,
   "id": "a8681f7c688107fd",
   "metadata": {
    "ExecuteTime": {
     "end_time": "2023-11-08T23:47:12.675521200Z",
     "start_time": "2023-11-08T23:47:12.641504300Z"
    },
    "collapsed": false
   },
   "outputs": [
    {
     "data": {
      "text/plain": [
       "\"alice was beginning to get very tired of sitting by her sister on the bank, and of having nothing to do: once or twice she had peeped into the book her sister was reading, but it had no pictures or conversations in it, “and what is the use of a book,” thought alice “wi\" ⋯ 148192 bytes ⋯ \"yes bright and eager with many a strange tale, perhaps even with the dream of wonderland of long ago: and how she would feel with all their simple sorrows, and find a pleasure in all their simple joys, remembering her own child life, and the happy summer days.\\n\\nthe end\""
      ]
     },
     "metadata": {},
     "output_type": "display_data"
    }
   ],
   "source": [
    "include(\"./lib/expand_contractions.jl\")\n",
    "text = expand_contractions(text)"
   ]
  },
  {
   "cell_type": "code",
   "execution_count": 3,
   "id": "2daa6391bb7a0d1f",
   "metadata": {
    "ExecuteTime": {
     "end_time": "2023-11-09T00:02:10.486390200Z",
     "start_time": "2023-11-09T00:02:10.481877200Z"
    },
    "collapsed": false
   },
   "outputs": [
    {
     "data": {
      "text/plain": [
       "4861-element Vector{SubString{String}}:\n",
       " \"alice was beginning to get very tired of sitting by her sister on the bank\"\n",
       " \" and of having nothing to do: o\" ⋯ 33 bytes ⋯ \"the book her sister was reading\"\n",
       " \" but it had no pictures or conversations in it\"\n",
       " \" \"\n",
       " \"and what is the use of a book\"\n",
       " \" thought alice \"\n",
       " \"without pictures or conversations\"\n",
       " \"so she was considering in her own mind \"\n",
       " \"as well as she could\"\n",
       " \" for the hot day made her feel very sleepy and stupid\"\n",
       " ⋮\n",
       " \" be herself a grown woman  and how she would keep\"\n",
       " \" through all her riper years\"\n",
       " \" the simple and loving heart of\" ⋯ 41 bytes ⋯ \"about her other little children\"\n",
       " \" and make their eyes bright and eager with many a strange tale\"\n",
       " \" perhaps even with the dream of\" ⋯ 46 bytes ⋯ \"l with all their simple sorrows\"\n",
       " \" and find a pleasure in all their simple joys\"\n",
       " \" remembering her own child life\"\n",
       " \" and the happy summer days\"\n",
       " \"the end\""
      ]
     },
     "metadata": {},
     "output_type": "display_data"
    }
   ],
   "source": [
    "sentences = split(text, r\"[.?!“”(),\\n]+\")"
   ]
  },
  {
   "cell_type": "code",
   "execution_count": 4,
   "id": "324032ae085ccfe2",
   "metadata": {
    "ExecuteTime": {
     "end_time": "2023-11-09T00:02:19.778870500Z",
     "start_time": "2023-11-09T00:02:19.766858800Z"
    },
    "collapsed": false
   },
   "outputs": [],
   "source": [
    "\n",
    "# 各文を単語に分割し、STARTとENDを追加する\n",
    "processed_sentences :: Vector{Vector{String}} = []\n",
    "for sentence in sentences\n",
    "    words :: Vector{String} = split(sentence)\n",
    "    if isempty(words) || length(words) < 3\n",
    "        continue\n",
    "    end\n",
    "    pushfirst!(words, \"START\")\n",
    "    push!(words, \"END\")\n",
    "    push!(processed_sentences, words :: Vector{String})\n",
    "end"
   ]
  },
  {
   "cell_type": "code",
   "execution_count": 5,
   "id": "3ca19686727522a7",
   "metadata": {
    "ExecuteTime": {
     "end_time": "2023-11-09T00:03:03.804524500Z",
     "start_time": "2023-11-09T00:03:03.220214500Z"
    },
    "collapsed": false
   },
   "outputs": [
    {
     "name": "stdout",
     "output_type": "stream",
     "text": [
      "Calculating bigrams and singlegrams...total_bigrams: 29115\n",
      "total_singlegrams: 32592\n",
      "Cross Entropy: "
     ]
    },
    {
     "name": "stdout",
     "output_type": "stream",
     "text": [
      "(3.5704825817955212, Any[(("
     ]
    },
    {
     "name": "stdout",
     "output_type": "stream",
     "text": [
      "\"START\", \"START\"), 0.05406032139246206), ((\"START\", \"is\"), 0.007827195905091443), ((\"is\", \"the\"), 0.07282629434072282), ((\"the\", \"rabbit\"), 0.0007210358370152185), ((\"rabbit\", \"on\"), 0.36450956506752735), ((\"on\", \"the\"), 0.04664928334017399), ((\"the\", \"table\"), 0.00026080019636720667), ((\"table\", \"white\"), 0.059283765052412715), ((\"white\", \"END\"), 0.05334131075110456)])\n"
     ]
    }
   ],
   "source": [
    "include(\"./lib/probability.jl\")\n",
    "\n",
    "calculator = TextEntropyCalculator(processed_sentences)\n",
    "entropy = calculate_entropy(calculator, \"START is the rabbit on the table white END\")\n",
    "println(\"Cross Entropy: \", entropy)"
   ]
  },
  {
   "cell_type": "code",
   "execution_count": 6,
   "id": "d7316d9a929853a",
   "metadata": {
    "ExecuteTime": {
     "end_time": "2023-11-09T00:02:28.160799Z",
     "start_time": "2023-11-09T00:02:28.145293200Z"
    },
    "collapsed": false
   },
   "outputs": [
    {
     "data": {
      "text/plain": [
       "162772"
      ]
     },
     "metadata": {},
     "output_type": "display_data"
    }
   ],
   "source": [
    "p_sentences = []\n",
    "\n",
    "for sentence in processed_sentences\n",
    "    push!(p_sentences, join(sentence, \" \"))\n",
    "end\n",
    "\n",
    "processed_text = join(p_sentences, \"\\n\")\n",
    "\n",
    "output = \"./data/alice_processed.txt\"\n",
    "open(output, \"w\") do f\n",
    "    write(f, processed_text)\n",
    "end"
   ]
  },
  {
   "cell_type": "code",
   "execution_count": 7,
   "id": "cae9184c002e796e",
   "metadata": {
    "ExecuteTime": {
     "end_time": "2023-11-09T00:48:49.864895800Z",
     "start_time": "2023-11-09T00:48:49.769898Z"
    },
    "collapsed": false
   },
   "outputs": [
    {
     "name": "stdout",
     "output_type": "stream",
     "text": [
      "Cross Entropy: 3.5704825817955212 3.699953213805839\n",
      "Cross Entropy: 3.739122627703332 3.5846182505516415\n"
     ]
    },
    {
     "name": "stderr",
     "output_type": "stream",
     "text": [
      "WARNING: using Plots.text in module Main conflicts with an existing identifier.\n"
     ]
    },
    {
     "name": "stdout",
     "output_type": "stream",
     "text": [
      "Cross Entropy: 4.314047807237659 4.394018952818498\n",
      "Cross Entropy: 3.386262105341753 3.6027394808583324\n"
     ]
    },
    {
     "data": {
      "text/plain": [
       "\"/workspaces/JuliaAliceBigram/graph-4-2.png\""
      ]
     },
     "metadata": {},
     "output_type": "display_data"
    }
   ],
   "source": [
    "include(\"./lib/calc_entropy.jl\")\n",
    "include(\"./lib/probability.jl\")\n",
    "include(\"./lib/biagram_export.jl\")\n",
    "\n",
    "# 指定された文\n",
    "case1 = [\"START is the rabbit on the table white END\", \"START does the rabbit on the table red END\"]\n",
    "case2 = [\"START is the girl reading END\", \"START is the rabbit reading END\"]\n",
    "case3 = [\"START is the caterpillar tired END\", \"START does the caterpillar tired END\"]\n",
    "case4 = [\"START is the house old END\", \"does the house old END\"]\n",
    "e1_entropy, e1_words = calculate_entropy(calculator, case1[1])\n",
    "generate_bigram_graph([e1_words, e1_entropy], \"sample_graph\")\n",
    "\n",
    "\n",
    "\n",
    "function compare_2sentences(sentence1, sentence2, num)\n",
    "    words1 = split(sentence1)\n",
    "    words2 = split(sentence2)\n",
    "    e1_entropy, e1_words = calculate_entropy(calculator, sentence1)\n",
    "    e2_entropy, e2_words = calculate_entropy(calculator, sentence2)\n",
    "    println(\"Cross Entropy: \", e1_entropy, \" \", e2_entropy)\n",
    "    generate_bigram_graph([e1_words, e1_entropy], \"graph-$num-1\")\n",
    "    generate_bigram_graph([e2_words, e2_entropy], \"graph-$num-2\")\n",
    "end\n",
    "compare_2sentences(case1[1], case1[2], 1)\n",
    "compare_2sentences(case2[1], case2[2], 2)\n",
    "compare_2sentences(case3[1], case3[2], 3)\n",
    "compare_2sentences(case4[1], case4[2], 4)"
   ]
  }
 ],
 "metadata": {
  "kernelspec": {
   "display_name": "Julia 1.8.4",
   "language": "julia",
   "name": "julia-1.8"
  },
  "language_info": {
   "file_extension": ".jl",
   "mimetype": "application/julia",
   "name": "julia",
   "version": "1.8.4"
  }
 },
 "nbformat": 4,
 "nbformat_minor": 5
}
