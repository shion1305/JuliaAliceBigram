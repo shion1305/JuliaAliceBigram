{
 "cells": [
  {
   "cell_type": "code",
   "execution_count": 13,
   "id": "initial_id",
   "metadata": {
    "ExecuteTime": {
     "end_time": "2023-11-08T23:47:12.642504100Z",
     "start_time": "2023-11-08T23:47:12.635984600Z"
    },
    "collapsed": true,
    "vscode": {
     "languageId": "julia"
    }
   },
   "outputs": [
    {
     "data": {
      "text/plain": [
       "A StringDocument{String}\n",
       " * Language: Languages.English()\n",
       " * Title: Untitled Document\n",
       " * Author: Unknown Author\n",
       " * Timestamp: Unknown Time\n",
       " * Snippet: alice was beginning to get very tired of sitting b"
      ]
     },
     "execution_count": 13,
     "metadata": {},
     "output_type": "execute_result"
    }
   ],
   "source": [
    "using Statistics\n",
    "using TextAnalysis\n",
    "\n",
    "# ファイルを読み込む\n",
    "file_path = \"./data/20231102_alice.txt\"\n",
    "text = read(file_path, String)\n",
    "\n",
    "# テキストを小文字に変換\n",
    "text = lowercase(text)\n",
    "doc = StringDocument(text)\n",
    "# prepare!(doc, strip_punctuation)\n",
    "# テキストを文に分割する"
   ]
  },
  {
   "cell_type": "code",
   "execution_count": 14,
   "id": "a8681f7c688107fd",
   "metadata": {
    "ExecuteTime": {
     "end_time": "2023-11-08T23:47:12.675521200Z",
     "start_time": "2023-11-08T23:47:12.641504300Z"
    },
    "collapsed": false,
    "vscode": {
     "languageId": "julia"
    }
   },
   "outputs": [
    {
     "data": {
      "text/plain": [
       "\"alice was beginning to get very tired of sitting by her sister on the bank, and of having nothing to do: once or twice she had peeped into the book her sister was reading, but it had no pictures or conversations in it, “and what is the use of a book,” thought alice “wi\" ⋯ 148718 bytes ⋯ \"yes bright and eager with many a strange tale, perhaps even with the dream of wonderland of long ago: and how she would feel with all their simple sorrows, and find a pleasure in all their simple joys, remembering her own child-life, and the happy summer days.\\n\\nthe end\""
      ]
     },
     "execution_count": 14,
     "metadata": {},
     "output_type": "execute_result"
    }
   ],
   "source": [
    "include(\"./lib/expand_contractions.jl\")\n",
    "text = expand_contractions(text)"
   ]
  },
  {
   "cell_type": "code",
   "execution_count": 40,
   "id": "2daa6391bb7a0d1f",
   "metadata": {
    "ExecuteTime": {
     "end_time": "2023-11-09T00:02:10.486390200Z",
     "start_time": "2023-11-09T00:02:10.481877200Z"
    },
    "collapsed": false,
    "vscode": {
     "languageId": "julia"
    }
   },
   "outputs": [
    {
     "data": {
      "text/plain": [
       "4861-element Vector{SubString{String}}:\n",
       " \"alice was beginning to get very tired of sitting by her sister on the bank\"\n",
       " \" and of having nothing to do: o\" ⋯ 33 bytes ⋯ \"the book her sister was reading\"\n",
       " \" but it had no pictures or conversations in it\"\n",
       " \" \"\n",
       " \"and what is the use of a book\"\n",
       " \" thought alice \"\n",
       " \"without pictures or conversations\"\n",
       " \"so she was considering in her own mind \"\n",
       " \"as well as she could\"\n",
       " \" for the hot day made her feel very sleepy and stupid\"\n",
       " \" whether the pleasure of making\" ⋯ 48 bytes ⋯ \"ting up and picking the daisies\"\n",
       " \" when suddenly a white rabbit with pink eyes ran close by her\"\n",
       " \"there was nothing so very remar\" ⋯ 67 bytes ⋯ \"o hear the rabbit say to itself\"\n",
       " ⋮\n",
       " \"lastly\"\n",
       " \" she pictured to herself how this same little sister of hers would\"\n",
       " \" in the after-time\"\n",
       " \" be herself a grown woman; and how she would keep\"\n",
       " \" through all her riper years\"\n",
       " \" the simple and loving heart of\" ⋯ 41 bytes ⋯ \"about her other little children\"\n",
       " \" and make their eyes bright and eager with many a strange tale\"\n",
       " \" perhaps even with the dream of\" ⋯ 46 bytes ⋯ \"l with all their simple sorrows\"\n",
       " \" and find a pleasure in all their simple joys\"\n",
       " \" remembering her own child-life\"\n",
       " \" and the happy summer days\"\n",
       " \"the end\""
      ]
     },
     "execution_count": 40,
     "metadata": {},
     "output_type": "execute_result"
    }
   ],
   "source": [
    "sentences = split(text, r\"[.?!“”(),\\n]+\")"
   ]
  },
  {
   "cell_type": "code",
   "execution_count": 41,
   "id": "324032ae085ccfe2",
   "metadata": {
    "ExecuteTime": {
     "end_time": "2023-11-09T00:02:19.778870500Z",
     "start_time": "2023-11-09T00:02:19.766858800Z"
    },
    "collapsed": false,
    "vscode": {
     "languageId": "julia"
    }
   },
   "outputs": [],
   "source": [
    "\n",
    "# 各文を単語に分割し、STARTとENDを追加する\n",
    "processed_sentences = []\n",
    "for sentence in sentences\n",
    "    words = split(sentence)\n",
    "    if isempty(words) || length(words) < 3\n",
    "        continue\n",
    "    end\n",
    "    pushfirst!(words, \"START\")\n",
    "    push!(words, \"END\")\n",
    "    push!(processed_sentences, words)\n",
    "end"
   ]
  },
  {
   "cell_type": "code",
   "execution_count": 46,
   "id": "3ca19686727522a7",
   "metadata": {
    "ExecuteTime": {
     "end_time": "2023-11-09T00:03:03.804524500Z",
     "start_time": "2023-11-09T00:03:03.220214500Z"
    },
    "collapsed": false,
    "vscode": {
     "languageId": "julia"
    }
   },
   "outputs": [
    {
     "data": {
      "text/plain": [
       "Dict{Any, Any} with 12999 entries:\n",
       "  (\"doubtfully:\", \"END\")     => 1\n",
       "  (\"uncomfortably\", \"sharp\") => 1\n",
       "  (\"salt\", \"water\")          => 2\n",
       "  (\"is\", \"to\")               => 6\n",
       "  (\"at\", \"them\")             => 3\n",
       "  (\"why\", \"END\")             => 3\n",
       "  (\"simple\", \"and\")          => 1\n",
       "  (\"crazy\", \"END\")           => 1\n",
       "  (\"the\", \"bones\")           => 1\n",
       "  (\"‘coming\", \"in\")          => 1\n",
       "  (\"a\", \"lobster\")           => 2\n",
       "  (\"footman\", \"in\")          => 2\n",
       "  (\"shall\", \"only\")          => 1\n",
       "  (\"corner—no\", \"END\")       => 1\n",
       "  (\"one\", \"only\")            => 1\n",
       "  (\"a\", \"delightful\")        => 1\n",
       "  (\"in\", \"one\")              => 3\n",
       "  (\"that\", \"curious\")        => 1\n",
       "  (\"a\", \"present\")           => 1\n",
       "  (\"solemnly\", \"END\")        => 2\n",
       "  (\"they\", \"hit\")            => 1\n",
       "  (\"START\", \"till\")          => 4\n",
       "  (\"they\", \"sat\")            => 2\n",
       "  (\"going\", \"through\")       => 1\n",
       "  (\"get\", \"out\")             => 5\n",
       "  ⋮                          => ⋮"
      ]
     },
     "execution_count": 46,
     "metadata": {},
     "output_type": "execute_result"
    }
   ],
   "source": [
    "# バイグラムを生成する (文境界を含むものを除去)\n",
    "bigrams = []\n",
    "for sentence in processed_sentences\n",
    "    for i in 1:length(sentence)-1\n",
    "        bigram = (sentence[i], sentence[i+1])\n",
    "        if sentence[i] != \"END\" && sentence[i+1] != \"START\"\n",
    "            push!(bigrams, bigram)\n",
    "        end\n",
    "    end\n",
    "end\n",
    "\n",
    "# バイグラムの出現回数を集計する\n",
    "bigram_counts = Dict()\n",
    "for bigram in bigrams\n",
    "    bigram_counts[bigram] = get(bigram_counts, bigram, 0) + 1\n",
    "end\n",
    "\n",
    "# 出力して確認\n",
    "bigram_counts"
   ]
  },
  {
   "cell_type": "code",
   "execution_count": 43,
   "id": "d7316d9a929853a",
   "metadata": {
    "ExecuteTime": {
     "end_time": "2023-11-09T00:02:28.160799Z",
     "start_time": "2023-11-09T00:02:28.145293200Z"
    },
    "collapsed": false,
    "vscode": {
     "languageId": "julia"
    }
   },
   "outputs": [
    {
     "data": {
      "text/plain": [
       "163047"
      ]
     },
     "execution_count": 43,
     "metadata": {},
     "output_type": "execute_result"
    }
   ],
   "source": [
    "p_sentences = []\n",
    "\n",
    "for sentence in processed_sentences\n",
    "    push!(p_sentences, join(sentence, \" \"))\n",
    "end\n",
    "\n",
    "# join sentences\n",
    "\n",
    "\n",
    "processed_text = join(p_sentences, \"\\n\")\n",
    "\n",
    "output = \"./data/alice_processed.txt\"\n",
    "open(output, \"w\") do f\n",
    "    write(f, processed_text)\n",
    "end"
   ]
  },
  {
   "cell_type": "code",
   "execution_count": 86,
   "id": "cae9184c002e796e",
   "metadata": {
    "ExecuteTime": {
     "end_time": "2023-11-09T00:48:49.864895800Z",
     "start_time": "2023-11-09T00:48:49.769898Z"
    },
    "collapsed": false,
    "vscode": {
     "languageId": "julia"
    }
   },
   "outputs": [
    {
     "name": "stdout",
     "output_type": "stream",
     "text": [
      "Cross Entropy: (5.999290282296896, Any[(\"START\", \"is\", 5), (\"is\", \"the\", 30), (\"the\", \"rabbit\", 20), (\"rabbit\", \"on\", 0), (\"on\", \"the\", 34), (\"the\", \"table\", 8), (\"table\", \"white\", 0), (\"white\", \"END\", 1)]) (6.452332898918942, Any[(\"START\", \"does\", 2), (\"does\", \"the\", 2), (\"the\", \"rabbit\", 20), (\"rabbit\", \"on\", 0), (\"on\", \"the\", 34), (\"the\", \"table\", 8), (\"table\", \"red\", 0), (\"red\", \"END\", 1)])\n",
      "Cross Entropy: (5.15852213041289, Any[(\"START\", \"is\", 5), (\"is\", \"the\", 30), (\"the\", \"girl\", 0), (\"girl\", \"reading\", 0), (\"reading\", \"END\", 1)]) (7.337793592041413, Any[(\"START\", \"does\", 2), (\"does\", \"the\", 2), (\"the\", \"rabbit\", 20), (\"rabbit\", \"reading\", 0), (\"reading\", \"END\", 1)])\n",
      "Cross Entropy: (4.522911364343301, Any[(\"START\", \"is\", 5), (\"is\", \"the\", 30), (\"the\", \"caterpillar\", 24), (\"caterpillar\", \"tired\", 0), (\"tired\", \"END\", 0)]) (5.247779550938574, Any[(\"START\", \"does\", 2), (\"does\", \"the\", 2), (\"the\", \"caterpillar\", 24), (\"caterpillar\", \"tired\", 0), (\"tired\", \"END\", 0)])\n",
      "Cross Entropy: (6.3741409117516525, Any[(\"START\", \"is\", 5), (\"is\", \"the\", 30), (\"the\", \"house\", 11), (\"house\", \"old\", 0), (\"old\", \"END\", 6)]) (6.480111005893583, Any[(\"does\", \"the\", 2), (\"the\", \"house\", 11), (\"house\", \"old\", 0), (\"old\", \"END\", 6)])\n"
     ]
    }
   ],
   "source": [
    "include(\"./lib/calc_entropy.jl\")\n",
    "\n",
    "# 指定された文\n",
    "case1 = [\"START is the rabbit on the table white END\", \"START does the rabbit on the table red END\"]\n",
    "case2 = [\"START is the girl reading END\", \"START does the rabbit reading END\"]\n",
    "case3 = [\"START is the caterpillar tired END\", \"START does the caterpillar tired END\"]\n",
    "case4 = [\"START is the house old END\", \"does the house old END\"]\n",
    "\n",
    "function compare_2sentences(sentence1, sentence2)\n",
    "    words1 = split(sentence1)\n",
    "    words2 = split(sentence2)\n",
    "    bigrams1 = [(words1[i], words1[i+1]) for i in 1:length(words1)-1]\n",
    "    cross_entropy1 = calc_entropy(bigrams1, bigram_counts)\n",
    "    bigrams2 = [(words2[i], words2[i+1]) for i in 1:length(words2)-1]\n",
    "    cross_entropy2 = calc_entropy(bigrams2, bigram_counts)\n",
    "    println(\"Cross Entropy: \", cross_entropy1, \" \", cross_entropy2)\n",
    "end\n",
    "compare_2sentences(case1[1], case1[2])\n",
    "compare_2sentences(case2[1], case2[2])\n",
    "compare_2sentences(case3[1], case3[2])\n",
    "compare_2sentences(case4[1], case4[2])"
   ]
  },
  {
   "cell_type": "code",
   "execution_count": 114,
   "id": "cd62c9bb70c54f8",
   "metadata": {
    "ExecuteTime": {
     "end_time": "2023-11-09T01:10:41.929886100Z",
     "start_time": "2023-11-09T01:10:41.670884400Z"
    },
    "collapsed": false,
    "vscode": {
     "languageId": "julia"
    }
   },
   "outputs": [
    {
     "name": "stdout",
     "output_type": "stream",
     "text": [
      "[\"START Alice\", \"Alice was\", \"was beginning\", \"beginning to\", \"to get\", \"get very\", \"very tired\", \"tired of\", \"of sitting\", \"sitting by\", \"by her\", \"her sister\", \"sister on\", \"on the\", \"the bank\", \"bank END\"]"
     ]
    },
    {
     "data": {
      "text/plain": [
       "\"C:\\\\Users\\\\shion\\\\gitClones\\\\JuliaAliceBigram\\\\sample_graph.png\""
      ]
     },
     "execution_count": 114,
     "metadata": {},
     "output_type": "execute_result"
    }
   ],
   "source": [
    "include(\"./lib/biagram_export.jl\")\n",
    "# バイグラムのデータセット\n",
    "bigram_data = [\n",
    "    (\"START\", \"Alice\", 5),\n",
    "    (\"Alice\", \"was\", 15),\n",
    "    (\"was\", \"beginning\", 10),\n",
    "    (\"beginning\", \"to\", 8),\n",
    "    (\"to\", \"get\", 12),\n",
    "    (\"get\", \"very\", 7),\n",
    "    (\"very\", \"tired\", 3),\n",
    "    (\"tired\", \"of\", 4),\n",
    "    (\"of\", \"sitting\", 2),\n",
    "    (\"sitting\", \"by\", 6),\n",
    "    (\"by\", \"her\", 9),\n",
    "    (\"her\", \"sister\", 11),\n",
    "    (\"sister\", \"on\", 13),\n",
    "    (\"on\", \"the\", 14),\n",
    "    (\"the\", \"bank\", 16),\n",
    "    (\"bank\", \"END\", 1)\n",
    "]\n",
    "\n",
    "# 関数を呼び出してグラフを生成し、ファイルに保存\n",
    "generate_bigram_graph(bigram_data, \"sample_graph\")"
   ]
  }
 ],
 "metadata": {
  "kernelspec": {
   "display_name": "Julia 1.9.3",
   "language": "julia",
   "name": "julia-1.9"
  },
  "language_info": {
   "codemirror_mode": {
    "name": "ipython",
    "version": 2
   },
   "file_extension": ".py",
   "mimetype": "text/x-python",
   "name": "python",
   "nbconvert_exporter": "python",
   "pygments_lexer": "ipython2",
   "version": "2.7.6"
  }
 },
 "nbformat": 4,
 "nbformat_minor": 5
}
