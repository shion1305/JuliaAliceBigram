{
 "cells": [
  {
   "cell_type": "code",
   "execution_count": 1,
   "id": "initial_id",
   "metadata": {
    "ExecuteTime": {
     "end_time": "2023-11-08T23:47:12.642504100Z",
     "start_time": "2023-11-08T23:47:12.635984600Z"
    },
    "collapsed": true
   },
   "outputs": [
    {
     "data": {
      "text/plain": [
       "A StringDocument{String}\n",
       " * Language: Languages.English()\n",
       " * Title: Untitled Document\n",
       " * Author: Unknown Author\n",
       " * Timestamp: Unknown Time\n",
       " * Snippet: alice was beginning to get very tired of sitting b"
      ]
     },
     "metadata": {},
     "output_type": "display_data"
    }
   ],
   "source": [
    "using Statistics\n",
    "using TextAnalysis\n",
    "\n",
    "# ファイルを読み込む\n",
    "file_path = \"./data/20231102_alice.txt\"\n",
    "text = read(file_path, String)\n",
    "\n",
    "# テキストを小文字に変換\n",
    "text = lowercase(text)\n",
    "doc = StringDocument(text)\n",
    "# prepare!(doc, strip_punctuation)\n",
    "# テキストを文に分割する"
   ]
  },
  {
   "cell_type": "code",
   "execution_count": 2,
   "id": "a8681f7c688107fd",
   "metadata": {
    "ExecuteTime": {
     "end_time": "2023-11-08T23:47:12.675521200Z",
     "start_time": "2023-11-08T23:47:12.641504300Z"
    },
    "collapsed": false
   },
   "outputs": [
    {
     "data": {
      "text/plain": [
       "\"alice was beginning to get very tired of sitting by her sister on the bank, and of having nothing to do: once or twice she had peeped into the book her sister was reading, but it had no pictures or conversations in it, “and what is the use of a book,” thought alice “wi\" ⋯ 148718 bytes ⋯ \"yes bright and eager with many a strange tale, perhaps even with the dream of wonderland of long ago: and how she would feel with all their simple sorrows, and find a pleasure in all their simple joys, remembering her own child-life, and the happy summer days.\\n\\nthe end\""
      ]
     },
     "metadata": {},
     "output_type": "display_data"
    }
   ],
   "source": [
    "include(\"./lib/expand_contractions.jl\")\n",
    "text = expand_contractions(text)"
   ]
  },
  {
   "cell_type": "code",
   "execution_count": 3,
   "id": "2daa6391bb7a0d1f",
   "metadata": {
    "ExecuteTime": {
     "end_time": "2023-11-09T00:02:10.486390200Z",
     "start_time": "2023-11-09T00:02:10.481877200Z"
    },
    "collapsed": false
   },
   "outputs": [
    {
     "data": {
      "text/plain": [
       "4861-element Vector{SubString{String}}:\n",
       " \"alice was beginning to get very tired of sitting by her sister on the bank\"\n",
       " \" and of having nothing to do: o\" ⋯ 33 bytes ⋯ \"the book her sister was reading\"\n",
       " \" but it had no pictures or conversations in it\"\n",
       " \" \"\n",
       " \"and what is the use of a book\"\n",
       " \" thought alice \"\n",
       " \"without pictures or conversations\"\n",
       " \"so she was considering in her own mind \"\n",
       " \"as well as she could\"\n",
       " \" for the hot day made her feel very sleepy and stupid\"\n",
       " ⋮\n",
       " \" be herself a grown woman; and how she would keep\"\n",
       " \" through all her riper years\"\n",
       " \" the simple and loving heart of\" ⋯ 41 bytes ⋯ \"about her other little children\"\n",
       " \" and make their eyes bright and eager with many a strange tale\"\n",
       " \" perhaps even with the dream of\" ⋯ 46 bytes ⋯ \"l with all their simple sorrows\"\n",
       " \" and find a pleasure in all their simple joys\"\n",
       " \" remembering her own child-life\"\n",
       " \" and the happy summer days\"\n",
       " \"the end\""
      ]
     },
     "metadata": {},
     "output_type": "display_data"
    }
   ],
   "source": [
    "sentences = split(text, r\"[.?!“”(),\\n]+\")"
   ]
  },
  {
   "cell_type": "code",
   "execution_count": 4,
   "id": "324032ae085ccfe2",
   "metadata": {
    "ExecuteTime": {
     "end_time": "2023-11-09T00:02:19.778870500Z",
     "start_time": "2023-11-09T00:02:19.766858800Z"
    },
    "collapsed": false
   },
   "outputs": [],
   "source": [
    "\n",
    "# 各文を単語に分割し、STARTとENDを追加する\n",
    "processed_sentences :: Vector{Vector{String}} = []\n",
    "for sentence in sentences\n",
    "    words :: Vector{String} = split(sentence)\n",
    "    if isempty(words) || length(words) < 3\n",
    "        continue\n",
    "    end\n",
    "    pushfirst!(words, \"START\")\n",
    "    push!(words, \"END\")\n",
    "    push!(processed_sentences, words :: Vector{String})\n",
    "end"
   ]
  },
  {
   "cell_type": "code",
   "execution_count": 9,
   "id": "3ca19686727522a7",
   "metadata": {
    "ExecuteTime": {
     "end_time": "2023-11-09T00:03:03.804524500Z",
     "start_time": "2023-11-09T00:03:03.220214500Z"
    },
    "collapsed": false
   },
   "outputs": [
    {
     "name": "stdout",
     "output_type": "stream",
     "text": [
      "Calculating bigrams and singlegrams...total_bigrams: 28789\n",
      "total_singlegrams: 32252\n",
      "0.05440851049214694\n",
      "0.0077421456764336614\n",
      "0.07030571747488529\n",
      "0.0006666253255612055\n",
      "0.39817036765702646\n",
      "0.0468291939983618\n",
      "0.0002635495473148952\n",
      "0.029861349227772466\n",
      "0.05368659307949895\n",
      "Cross Entropy: 3.639967087964231\n"
     ]
    }
   ],
   "source": [
    "include(\"./lib/probability.jl\")\n",
    "\n",
    "calculator = TextEntropyCalculator(processed_sentences)\n",
    "entropy = calculate_entropy(calculator, \"START is the rabbit on the table white END\")\n",
    "println(\"Cross Entropy: \", entropy)"
   ]
  },
  {
   "cell_type": "code",
   "execution_count": 6,
   "id": "d7316d9a929853a",
   "metadata": {
    "ExecuteTime": {
     "end_time": "2023-11-09T00:02:28.160799Z",
     "start_time": "2023-11-09T00:02:28.145293200Z"
    },
    "collapsed": false
   },
   "outputs": [
    {
     "data": {
      "text/plain": [
       "163047"
      ]
     },
     "metadata": {},
     "output_type": "display_data"
    }
   ],
   "source": [
    "p_sentences = []\n",
    "\n",
    "for sentence in processed_sentences\n",
    "    push!(p_sentences, join(sentence, \" \"))\n",
    "end\n",
    "\n",
    "# join sentences\n",
    "\n",
    "\n",
    "processed_text = join(p_sentences, \"\\n\")\n",
    "\n",
    "output = \"./data/alice_processed.txt\"\n",
    "open(output, \"w\") do f\n",
    "    write(f, processed_text)\n",
    "end"
   ]
  },
  {
   "cell_type": "code",
   "execution_count": 12,
   "id": "cae9184c002e796e",
   "metadata": {
    "ExecuteTime": {
     "end_time": "2023-11-09T00:48:49.864895800Z",
     "start_time": "2023-11-09T00:48:49.769898Z"
    },
    "collapsed": false
   },
   "outputs": [
    {
     "name": "stdout",
     "output_type": "stream",
     "text": [
      "Cross Entropy: 3.639967087964231 3.7045342161114894\n",
      "Cross Entropy: 3.737001591000174 3.67814255087666\n",
      "Cross Entropy: 4.316340219154875 4.399234667949564\n",
      "Cross Entropy: 3.381465347784939 3.5985978858774614\n"
     ]
    }
   ],
   "source": [
    "include(\"./lib/calc_entropy.jl\")\n",
    "include(\"./lib/probability.jl\")\n",
    "\n",
    "# 指定された文\n",
    "case1 = [\"START is the rabbit on the table white END\", \"START does the rabbit on the table red END\"]\n",
    "case2 = [\"START is the girl reading END\", \"START does the rabbit reading END\"]\n",
    "case3 = [\"START is the caterpillar tired END\", \"START does the caterpillar tired END\"]\n",
    "case4 = [\"START is the house old END\", \"does the house old END\"]\n",
    "\n",
    "function compare_2sentences(sentence1, sentence2)\n",
    "    words1 = split(sentence1)\n",
    "    words2 = split(sentence2)\n",
    "    e1 = calculate_entropy(calculator, sentence1)\n",
    "    e2 = calculate_entropy(calculator, sentence2)\n",
    "    println(\"Cross Entropy: \", e1, \" \", e2)\n",
    "end\n",
    "compare_2sentences(case1[1], case1[2])\n",
    "compare_2sentences(case2[1], case2[2])\n",
    "compare_2sentences(case3[1], case3[2])\n",
    "compare_2sentences(case4[1], case4[2])"
   ]
  },
  {
   "cell_type": "code",
   "execution_count": 8,
   "id": "cd62c9bb70c54f8",
   "metadata": {
    "ExecuteTime": {
     "end_time": "2023-11-09T01:10:41.929886100Z",
     "start_time": "2023-11-09T01:10:41.670884400Z"
    },
    "collapsed": false
   },
   "outputs": [
    {
     "name": "stderr",
     "output_type": "stream",
     "text": [
      "WARNING: using Plots.text in module Main conflicts with an existing identifier.\n"
     ]
    },
    {
     "ename": "LoadError",
     "evalue": "LoadError: ArgumentError: Package Measures not found in current path.\n- Run `import Pkg; Pkg.add(\"Measures\")` to install the Measures package.\nin expression starting at /workspaces/JuliaAliceBigram/lib/biagram_export.jl:2",
     "output_type": "error",
     "traceback": [
      "LoadError: ArgumentError: Package Measures not found in current path.\n",
      "- Run `import Pkg; Pkg.add(\"Measures\")` to install the Measures package.\n",
      "in expression starting at /workspaces/JuliaAliceBigram/lib/biagram_export.jl:2\n",
      "\n",
      "Stacktrace:\n",
      " [1] macro expansion\n",
      "   @ ./loading.jl:1163 [inlined]\n",
      " [2] macro expansion\n",
      "   @ ./lock.jl:223 [inlined]\n",
      " [3] require(into::Module, mod::Symbol)\n",
      "   @ Base ./loading.jl:1144\n",
      " [4] include(fname::String)\n",
      "   @ Base.MainInclude ./client.jl:476\n",
      " [5] top-level scope\n",
      "   @ /workspaces/JuliaAliceBigram/preprocessing.ipynb:1"
     ]
    }
   ],
   "source": [
    "include(\"./lib/biagram_export.jl\")\n",
    "# バイグラムのデータセット\n",
    "bigram_data = [\n",
    "    (\"START\", \"Alice\", 5),\n",
    "    (\"Alice\", \"was\", 15),\n",
    "    (\"was\", \"beginning\", 10),\n",
    "    (\"beginning\", \"to\", 8),\n",
    "    (\"to\", \"get\", 12),\n",
    "    (\"get\", \"very\", 7),\n",
    "    (\"very\", \"tired\", 3),\n",
    "    (\"tired\", \"of\", 4),\n",
    "    (\"of\", \"sitting\", 2),\n",
    "    (\"sitting\", \"by\", 6),\n",
    "    (\"by\", \"her\", 9),\n",
    "    (\"her\", \"sister\", 11),\n",
    "    (\"sister\", \"on\", 13),\n",
    "    (\"on\", \"the\", 14),\n",
    "    (\"the\", \"bank\", 16),\n",
    "    (\"bank\", \"END\", 1)\n",
    "]\n",
    "\n",
    "# 関数を呼び出してグラフを生成し、ファイルに保存\n",
    "generate_bigram_graph(bigram_data, \"sample_graph\")"
   ]
  }
 ],
 "metadata": {
  "kernelspec": {
   "display_name": "Julia 1.8.4",
   "language": "julia",
   "name": "julia-1.8"
  },
  "language_info": {
   "file_extension": ".jl",
   "mimetype": "application/julia",
   "name": "julia",
   "version": "1.8.4"
  }
 },
 "nbformat": 4,
 "nbformat_minor": 5
}
